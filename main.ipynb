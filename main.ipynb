{
 "cells": [
  {
   "cell_type": "code",
   "execution_count": 42,
   "metadata": {},
   "outputs": [
    {
     "data": {
      "text/plain": [
       "True"
      ]
     },
     "execution_count": 42,
     "metadata": {},
     "output_type": "execute_result"
    }
   ],
   "source": [
    "from dotenv import load_dotenv\n",
    "load_dotenv() "
   ]
  },
  {
   "cell_type": "markdown",
   "metadata": {},
   "source": [
    "## Load YouTube Videos\n"
   ]
  },
  {
   "cell_type": "code",
   "execution_count": 43,
   "metadata": {},
   "outputs": [],
   "source": [
    "from langchain_community.document_loaders import YoutubeLoader\n",
    "\n",
    "with open(\"videos.txt\", \"r\") as f:\n",
    "    for idx_video, video in enumerate(f):\n",
    "        \n",
    "        loader = YoutubeLoader.from_youtube_url(video, language=\"pt\" )\n",
    "\n",
    "        with open(f'transcripts/video{idx_video}.txt', \"w\") as f:\n",
    "            pages = loader.load()\n",
    "            for page in pages:\n",
    "                f.write(page.page_content)\n",
    "            "
   ]
  },
  {
   "cell_type": "markdown",
   "metadata": {},
   "source": [
    "## Load documents from directory"
   ]
  },
  {
   "cell_type": "code",
   "execution_count": 44,
   "metadata": {},
   "outputs": [
    {
     "name": "stderr",
     "output_type": "stream",
     "text": [
      "100%|██████████| 12/12 [00:03<00:00,  3.80it/s]\n"
     ]
    }
   ],
   "source": [
    "from langchain_community.document_loaders import DirectoryLoader\n",
    "\n",
    "loader = DirectoryLoader('./transcripts/', use_multithreading=True, show_progress=True)\n",
    "documents = loader.load()"
   ]
  },
  {
   "cell_type": "markdown",
   "metadata": {},
   "source": [
    "## Split Docs"
   ]
  },
  {
   "cell_type": "code",
   "execution_count": 45,
   "metadata": {},
   "outputs": [],
   "source": [
    "from langchain_text_splitters import RecursiveCharacterTextSplitter\n",
    "\n",
    "text_splitter = RecursiveCharacterTextSplitter(\n",
    "    chunk_size=1000,\n",
    "    chunk_overlap=100,\n",
    ")\n",
    "\n",
    "split_docs = text_splitter.split_documents(documents)"
   ]
  },
  {
   "cell_type": "markdown",
   "metadata": {},
   "source": [
    "## Create vector db"
   ]
  },
  {
   "cell_type": "code",
   "execution_count": 46,
   "metadata": {},
   "outputs": [],
   "source": [
    "from langchain_community.vectorstores import FAISS\n",
    "from langchain_openai import OpenAIEmbeddings\n",
    "\n",
    "faiss_index = FAISS.from_documents(split_docs, OpenAIEmbeddings())"
   ]
  },
  {
   "cell_type": "markdown",
   "metadata": {},
   "source": [
    "## Create the chain"
   ]
  },
  {
   "cell_type": "code",
   "execution_count": 47,
   "metadata": {},
   "outputs": [
    {
     "data": {
      "text/plain": [
       "{'input': 'Onde estava Paulo ao escrever a carta?',\n",
       " 'context': [Document(page_content='escreve essa carta depois de ter recebido a visita de um amigo de um irmão epafrodito nós vamos ver isso nas próximas semanas ele provavelmente era membro da igreja de filipos e muito provavelmente um líder da igreja de filipos ele esteve em Roma por dois motivos para entregar uma oferta ao Apóstolo Paulo mas ele aproveitou obviamente deu informações para o apóstolo Paulo a respeito do dia-a-dia da igreja lá em filipos então Paulo Resolvi escrever essa carta e muito provavelmente foi o própria para fro dito que levou essa carta para filipos e ele escreve com alguns objetivos primeiro agradecer a oferta ele é grato aqueles irmãos com as ofertas daqueles irmãos Paulo estava preso numa casa alugada em Roma também para trazer algumas orientações diante de alguns assuntos teológicos alguns assuntos eclesiásticos do dia-a-dia da igreja alguns problemas que para o dito para ele por exemplo algumas lideranças não estavam se entendendo havia um problema com algum judaizantes nós vamos ver tudo', metadata={'source': 'transcripts/video1.txt'}),\n",
       "  Document(page_content='as boas novas ele levar bençãos e ofertas e elaa os judeus e o querem matar Porque ele estava Pregando a Cristo o Querem Acabar com a vida dele é porque ele estava pregando uma mensagem diferente da de Moisés ele dizia que não que ele tava brigando o que Moisés havia profetizado que haveria um Salvador É mas ele continuou preso e para não ser morto ele foi enviado para Roma porque ele Apelou para César Porque lá ele provavelmente seria morto mesmo e ele tava aqui preso provavelmente nesse momento sejam muito que ele escreveu essa carta é preso e há cerca de 2 anos Eu e meus irmãos São Paulo preso apresenta o seu motivo de alegria de vida o que traz felicidade ao seu coração mesmo ali na cadeia e ele não estava sozinho ele tava com dois homens Timóteo e epafrodito e é sobre esses dois homens que nós vamos falar nessa palavra de hoje Paulo escreve a carta aos Filipenses porque era uma igreja que Ele amava que ele tinha plantado em filipos a igreja amava Paulo tanto que enviou epafrodito', metadata={'source': 'transcripts/video7.txt'}),\n",
       "  Document(page_content='as boas novas ele levar bençãos e ofertas e elaa os judeus e o querem matar Porque ele estava Pregando a Cristo o Querem Acabar com a vida dele é porque ele estava pregando uma mensagem diferente da de Moisés ele dizia que não que ele tava brigando o que Moisés havia profetizado que haveria um Salvador É mas ele continuou preso e para não ser morto ele foi enviado para Roma porque ele Apelou para César Porque lá ele provavelmente seria morto mesmo e ele tava aqui preso provavelmente nesse momento sejam muito que ele escreveu essa carta é preso e há cerca de 2 anos Eu e meus irmãos São Paulo preso apresenta o seu motivo de alegria de vida o que traz felicidade ao seu coração mesmo ali na cadeia e ele não estava sozinho ele tava com dois homens Timóteo e epafrodito e é sobre esses dois homens que nós vamos falar nessa palavra de hoje Paulo escreve a carta aos Filipenses porque era uma igreja que Ele amava que ele tinha plantado em filipos a igreja amava Paulo tanto que enviou epafrodito', metadata={'source': 'transcripts/video6.txt'}),\n",
       "  Document(page_content='amor um exemplo para todos nós para nós lidamos com situações assim talvez se Paulo não estivesse preso ele escreve essa carta preso a ele deixasse para Tratar deste assunto pessoalmente agora sabe o que que é louco nessa história E essas cartas elas eram lidas publicamente na comunidade eu chegava lá o rolo que eu Pastor Paulo mandou olha chegou uma carta do apóstolo Paulo joia Vamos ler no culto E aí eu quero que você imagine a cena evodia sentada no primeiro banco cintiq sentada no último banco Oi e aí começa a carta do apóstolo Paulo a ser lá e vem o capítulo primeiro as duas assim puxa o apóstolo Paulo é demais Jesus é demais olha como ele nos ama nossa nossa igreja é show né E aí vem o capítulo 2 e Paulo apontando para Cristo EA humilhação e tudo aquilo e aí vem o capítulo 3 e elas Radiante aí chega o Capítulo 41 E aí e a confiança de Paulo na reconciliação era tão grande dessas duas mulheres o que ele a cita sabendo que Elas seriam o que elas ouviriam numa leitura pública e', metadata={'source': 'transcripts/video10.txt'})],\n",
       " 'answer': 'Paulo estava preso em uma casa alugada em Roma quando escreveu a carta.'}"
      ]
     },
     "execution_count": 47,
     "metadata": {},
     "output_type": "execute_result"
    }
   ],
   "source": [
    "from langchain import hub\n",
    "from langchain.chains.retrieval import create_retrieval_chain\n",
    "from langchain.chains.combine_documents import create_stuff_documents_chain\n",
    "from langchain_openai import ChatOpenAI\n",
    "\n",
    "\n",
    "prompt = hub.pull(\"langchain-ai/retrieval-qa-chat\")\n",
    "\n",
    "llm = ChatOpenAI()\n",
    "combine_docs_chain = create_stuff_documents_chain(llm, prompt)\n",
    "\n",
    "retrieval_chain = create_retrieval_chain(retriever=faiss_index.as_retriever(k=4), combine_docs_chain=combine_docs_chain)\n",
    "retrieval_chain.invoke({\"input\": \"Onde estava Paulo ao escrever a carta?\"})"
   ]
  }
 ],
 "metadata": {
  "kernelspec": {
   "display_name": "env",
   "language": "python",
   "name": "python3"
  },
  "language_info": {
   "codemirror_mode": {
    "name": "ipython",
    "version": 3
   },
   "file_extension": ".py",
   "mimetype": "text/x-python",
   "name": "python",
   "nbconvert_exporter": "python",
   "pygments_lexer": "ipython3",
   "version": "3.12.2"
  }
 },
 "nbformat": 4,
 "nbformat_minor": 2
}
